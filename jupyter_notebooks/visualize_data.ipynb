{
 "cells": [
  {
   "cell_type": "markdown",
   "metadata": {},
   "source": [
    "## Visualize"
   ]
  },
  {
   "cell_type": "code",
   "execution_count": 14,
   "metadata": {},
   "outputs": [],
   "source": [
    "import h5py\n",
    "import numpy as np\n",
    "import os\n",
    "\n",
    "import sys\n",
    "sys.path.append('..')\n",
    "from util.plotting import plot_image_rows\n",
    "\n",
    "\n",
    "\n",
    "def get_path(model_sim, ws, encoded, norm):\n",
    "    if model_sim == \"p21c\":\n",
    "        dp = f\"/users/jsolt/data/jsolt/21cmFAST_sims/p21c14/p21c14\"\n",
    "    elif model_sim == \"zreion\":\n",
    "        dp = f\"/users/jsolt/data/jsolt/zreion_sims/zreion24/zreion24\"\n",
    "    elif model_sim == \"ctrpx\":\n",
    "        dp = f\"/users/jsolt/data/jsolt/centralpix_sims/centralpix05/centralpix05\"\n",
    "    if encoded:\n",
    "        dp += f\"_norm_encoded_ws{ws}.hdf5\" if norm else f\"_encoded_ws{ws}.hdf5\"\n",
    "    else:\n",
    "        dp += f\"_subdiv_sliced_ws{ws}.hdf5\"\n",
    "    return dp\n",
    " \n",
    "\n",
    "sim = \"p21c\"\n",
    "ws = 0.0\n",
    "n = 8\n",
    "z=15\n",
    "unenc_fname = get_path(sim, ws, False, False)\n",
    "enc_fname = get_path(sim, ws, True, False)\n",
    "norm_enc_fname = get_path(sim, ws, True, True)\n",
    "fig_dir = f\"../figures/data_figures/{sim}_ws{ws}\"\n",
    "\n",
    "start, end = 2,6\n",
    "ntrvl=4\n",
    "n = np.arange(start*ntrvl,end*ntrvl,ntrvl)\n",
    "z = np.linspace(0, 29, 6, dtype=int)\n",
    "\n",
    "if not os.path.exists(fig_dir): os.mkdir(fig_dir)\n",
    "\n"
   ]
  },
  {
   "cell_type": "code",
   "execution_count": 15,
   "metadata": {},
   "outputs": [
    {
     "name": "stdout",
     "output_type": "stream",
     "text": [
      "(2960, 30, 4, 32, 32)\n",
      "(2960, 3)\n",
      "(4, 6, 4, 32, 32)\n",
      "(4, 3)\n"
     ]
    }
   ],
   "source": [
    "\n",
    "with h5py.File(enc_fname, 'r') as f:\n",
    "    print(f['lightcones/brightness_temp'].shape)\n",
    "    print(f['lightcone_params/physparams'].shape)\n",
    "    sample = f['lightcones/brightness_temp'][n]\n",
    "    labels = f['lightcone_params/physparams'][n]\n",
    "\n",
    "sample = sample[:,z]\n",
    "print(sample.shape)\n",
    "print(labels.shape)"
   ]
  },
  {
   "cell_type": "code",
   "execution_count": 16,
   "metadata": {},
   "outputs": [],
   "source": [
    "%matplotlib inline\n",
    "\n",
    "for c in range(4):\n",
    "    rowdict = {f\"lc {ni} mdpt {labels[ni,0]:.1f}\":sample[ni,:,c,:,:] for ni in range(len(n))}\n",
    "    plot_image_rows(rowdict, fname=f\"{fig_dir}/latent_channel_{c}_{sim}_ws{ws}.jpg\", title=f\"{sim} ws={ws} encoded channel {c}\")"
   ]
  },
  {
   "cell_type": "code",
   "execution_count": 17,
   "metadata": {},
   "outputs": [
    {
     "name": "stdout",
     "output_type": "stream",
     "text": [
      "(2960, 30, 4, 32, 32)\n",
      "(2960, 3)\n",
      "(4, 6, 4, 32, 32)\n",
      "(4, 3)\n"
     ]
    }
   ],
   "source": [
    "with h5py.File(norm_enc_fname, 'r') as f:\n",
    "    print(f['lightcones/brightness_temp'].shape)\n",
    "    print(f['lightcone_params/physparams'].shape)\n",
    "    sample = f['lightcones/brightness_temp'][n]\n",
    "    labels = f['lightcone_params/physparams'][n]\n",
    "\n",
    "sample = sample[:,z]\n",
    "print(sample.shape)\n",
    "print(labels.shape)"
   ]
  },
  {
   "cell_type": "code",
   "execution_count": 18,
   "metadata": {},
   "outputs": [],
   "source": [
    "%matplotlib inline\n",
    "\n",
    "for c in range(4):\n",
    "    rowdict = {f\"lc {ni} mdpt {labels[ni,0]:.1f}\":sample[ni,:,c,:,:] for ni in range(len(n))}\n",
    "    plot_image_rows(rowdict, fname=f\"{fig_dir}/prenorm_latent_channel_{c}_{sim}_ws{ws}.jpg\", title=f\"{sim} ws={ws} prenorm encoded channel {c}\")"
   ]
  },
  {
   "cell_type": "code",
   "execution_count": 19,
   "metadata": {},
   "outputs": [
    {
     "name": "stdout",
     "output_type": "stream",
     "text": [
      "(2960, 30, 256, 256)\n",
      "(4, 6, 256, 256)\n"
     ]
    }
   ],
   "source": [
    "\n",
    "with h5py.File(unenc_fname, 'r') as f:\n",
    "    print(f['lightcones/brightness_temp'].shape)\n",
    "    input = f['lightcones/brightness_temp'][n]\n",
    "    labels = f['lightcone_params/physparams'][n]\n",
    "input = input[:,z]\n",
    "print(input.shape)"
   ]
  },
  {
   "cell_type": "code",
   "execution_count": 20,
   "metadata": {},
   "outputs": [],
   "source": [
    "%matplotlib inline\n",
    "\n",
    "rowdict = {f\"n={ni} (Mdpt {labels[ni,0]:.1f})\":input[ni,:,:,:] for ni in range(len(n))}\n",
    "\n",
    "plot_image_rows(rowdict, fname=f\"{fig_dir}/unencoded_bT_{sim}_ws{ws}.jpg\", title=f\"{sim} ws={ws} unencoded bT\")\n"
   ]
  },
  {
   "cell_type": "code",
   "execution_count": 21,
   "metadata": {},
   "outputs": [
    {
     "name": "stdout",
     "output_type": "stream",
     "text": [
      "dict_keys(['n=0 (Mdpt 9.2)', 'n=1 (Mdpt 7.9)', 'n=2 (Mdpt 6.8)', 'n=3 (Mdpt 7.4)'])\n"
     ]
    }
   ],
   "source": [
    "print(rowdict.keys())"
   ]
  }
 ],
 "metadata": {
  "kernelspec": {
   "display_name": "myenv",
   "language": "python",
   "name": "python3"
  },
  "language_info": {
   "codemirror_mode": {
    "name": "ipython",
    "version": 3
   },
   "file_extension": ".py",
   "mimetype": "text/x-python",
   "name": "python",
   "nbconvert_exporter": "python",
   "pygments_lexer": "ipython3",
   "version": "3.9.16"
  }
 },
 "nbformat": 4,
 "nbformat_minor": 2
}
