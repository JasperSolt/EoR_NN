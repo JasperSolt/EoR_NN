{
 "cells": [
  {
   "cell_type": "markdown",
   "metadata": {},
   "source": [
    "## Visualize"
   ]
  },
  {
   "cell_type": "markdown",
   "metadata": {},
   "source": [
    "### Plot data"
   ]
  },
  {
   "cell_type": "code",
   "execution_count": null,
   "metadata": {},
   "outputs": [],
   "source": [
    "import h5py\n",
    "import numpy as np\n",
    "import os\n",
    "\n",
    "import sys\n",
    "sys.path.append('..')\n",
    "from util.plotting import plot_image_rows\n",
    "\n",
    "\n",
    "\n",
    "def get_path(model_sim, ws, encoded, norm):\n",
    "    if model_sim == \"p21c\":\n",
    "        dp = f\"/users/jsolt/data/jsolt/21cmFAST_sims/p21c14/p21c14\"\n",
    "    elif model_sim == \"zreion\":\n",
    "        dp = f\"/users/jsolt/data/jsolt/zreion_sims/zreion24/zreion24\"\n",
    "    elif model_sim == \"ctrpx\":\n",
    "        dp = f\"/users/jsolt/data/jsolt/centralpix_sims/centralpix05/centralpix05\"\n",
    "    if encoded:\n",
    "        dp += f\"_norm_encoded_ws{ws}.hdf5\" if norm else f\"_encoded_ws{ws}.hdf5\"\n",
    "    else:\n",
    "        dp += f\"_subdiv_sliced_ws{ws}.hdf5\"\n",
    "    return dp\n",
    " \n",
    "\n",
    "sim = \"ctrpx\"\n",
    "ws = 0.0\n",
    "\n",
    "unenc_fname = get_path(sim, ws, False, False)\n",
    "enc_fname = get_path(sim, ws, True, False)\n",
    "norm_enc_fname = get_path(sim, ws, True, True)\n",
    "\n",
    "fig_dir = f\"../figures/data_figures/{sim}_ws{ws}\"\n",
    "if not os.path.exists(fig_dir): os.mkdir(fig_dir)\n",
    "\n",
    "start, end = 0,8\n",
    "ntrvl=4\n",
    "n = np.arange(start*ntrvl,end*ntrvl,ntrvl)\n",
    "z = np.linspace(0, 29, 6, dtype=int)\n",
    "\n"
   ]
  },
  {
   "cell_type": "code",
   "execution_count": 18,
   "metadata": {},
   "outputs": [
    {
     "name": "stdout",
     "output_type": "stream",
     "text": [
      "(3445, 30, 4, 32, 32)\n",
      "(3445, 3)\n",
      "(8, 6, 4, 32, 32)\n",
      "(8, 3)\n"
     ]
    }
   ],
   "source": [
    "\n",
    "with h5py.File(enc_fname, 'r') as f:\n",
    "    print(f['lightcones/brightness_temp'].shape)\n",
    "    print(f['lightcone_params/physparams'].shape)\n",
    "    sample = f['lightcones/brightness_temp'][n]\n",
    "    labels = f['lightcone_params/physparams'][n]\n",
    "\n",
    "sample = sample[:,z]\n",
    "print(sample.shape)\n",
    "print(labels.shape)\n"
   ]
  },
  {
   "cell_type": "code",
   "execution_count": 19,
   "metadata": {},
   "outputs": [],
   "source": [
    "\n",
    "%matplotlib inline\n",
    "\n",
    "for c in range(4):\n",
    "    rowdict = {f\"lc {ni} dur {labels[ni,1]:.1f}\":sample[ni,:,c,:,:] for ni in range(len(n))}\n",
    "    plot_image_rows(rowdict, fname=f\"{fig_dir}/latent_channel_{c}_{sim}_ws{ws}.jpg\", title=f\"{sim} ws={ws} encoded channel {c}\")\n"
   ]
  },
  {
   "cell_type": "code",
   "execution_count": 20,
   "metadata": {},
   "outputs": [
    {
     "name": "stdout",
     "output_type": "stream",
     "text": [
      "(3445, 30, 4, 32, 32)\n",
      "(3445, 3)\n",
      "(8, 6, 4, 32, 32)\n",
      "(8, 3)\n"
     ]
    }
   ],
   "source": [
    "with h5py.File(norm_enc_fname, 'r') as f:\n",
    "    print(f['lightcones/brightness_temp'].shape)\n",
    "    print(f['lightcone_params/physparams'].shape)\n",
    "    sample = f['lightcones/brightness_temp'][n]\n",
    "    labels = f['lightcone_params/physparams'][n]\n",
    "\n",
    "sample = sample[:,z]\n",
    "print(sample.shape)\n",
    "print(labels.shape)"
   ]
  },
  {
   "cell_type": "code",
   "execution_count": 21,
   "metadata": {},
   "outputs": [],
   "source": [
    "%matplotlib inline\n",
    "\n",
    "for c in range(4):\n",
    "    rowdict = {f\"lc {ni} dur {labels[ni,1]:.1f}\":sample[ni,:,c,:,:] for ni in range(len(n))}\n",
    "    plot_image_rows(rowdict, fname=f\"{fig_dir}/prenorm_latent_channel_{c}_{sim}_ws{ws}.jpg\", title=f\"{sim} ws={ws} prenorm encoded channel {c}\")"
   ]
  },
  {
   "cell_type": "code",
   "execution_count": 22,
   "metadata": {},
   "outputs": [
    {
     "name": "stdout",
     "output_type": "stream",
     "text": [
      "(3445, 30, 256, 256)\n",
      "(8, 6, 256, 256)\n"
     ]
    }
   ],
   "source": [
    "\n",
    "with h5py.File(unenc_fname, 'r') as f:\n",
    "    print(f['lightcones/brightness_temp'].shape)\n",
    "    input = f['lightcones/brightness_temp'][n]\n",
    "    labels = f['lightcone_params/physparams'][n]\n",
    "input = input[:,z]\n",
    "print(input.shape)"
   ]
  },
  {
   "cell_type": "code",
   "execution_count": 23,
   "metadata": {},
   "outputs": [],
   "source": [
    "%matplotlib inline\n",
    "\n",
    "rowdict = {f\"lc {ni} dur {labels[ni,1]:.1f})\":input[ni,:,:,:] for ni in range(len(n))}\n",
    "\n",
    "plot_image_rows(rowdict, fname=f\"{fig_dir}/unencoded_bT_{sim}_ws{ws}.jpg\", title=f\"{sim} ws={ws} unencoded bT\")\n"
   ]
  },
  {
   "cell_type": "markdown",
   "metadata": {},
   "source": [
    "### Dataset Statistics"
   ]
  },
  {
   "cell_type": "code",
   "execution_count": 31,
   "metadata": {},
   "outputs": [],
   "source": [
    "import os\n",
    "import numpy as np\n",
    "import matplotlib.pyplot as plt\n",
    "\n",
    "get_name = {\n",
    "    \"p21c\" : \"p21c14\",\n",
    "    \"zreion\" : \"zreion24\",\n",
    "    \"ctrpx\" : \"centralpix05\"\n",
    "    }\n",
    "\n",
    "get_dir = {\n",
    "    \"p21c\" : \"/users/jsolt/data/jsolt/21cmFAST_sims\",\n",
    "    \"zreion\" : \"/users/jsolt/data/jsolt/zreion_sims\",\n",
    "    \"ctrpx\" : \"/users/jsolt/data/jsolt/centralpix_sims\"\n",
    "    }\n",
    "\n",
    "npz_fname, fig_dir = {}, {}\n",
    "sims = [\"p21c\", \"ctrpx\", \"zreion\"]\n",
    "ws = 0.0\n",
    "\n",
    "npz_fname = {sim:f\"{get_dir[sim]}/{get_name[sim]}/{get_name[sim]}_ws{ws}_vae_stats.npz\" for sim in sims}\n",
    "\n",
    "fig_dir = \"../figures/data_figures\""
   ]
  },
  {
   "cell_type": "code",
   "execution_count": 21,
   "metadata": {},
   "outputs": [],
   "source": [
    "npz = {sim: np.load(npz_fname[sim]) for sim in sims}\n"
   ]
  },
  {
   "cell_type": "markdown",
   "metadata": {},
   "source": [
    "#### MSE"
   ]
  },
  {
   "cell_type": "code",
   "execution_count": 32,
   "metadata": {},
   "outputs": [
    {
     "data": {
      "text/plain": [
       "<Figure size 640x480 with 0 Axes>"
      ]
     },
     "metadata": {},
     "output_type": "display_data"
    }
   ],
   "source": [
    "%matplotlib inline\n",
    "\n",
    "fig, ax = plt.subplots()\n",
    "ax.set_title(\"MSE: Original v. Decoded \")\n",
    "ax.set_ylabel(\"Mean MSE\")\n",
    "ax.set_xlabel(\"z slice index\")\n",
    "\n",
    "for sim in sims:\n",
    "    stat = npz[sim]['mse'].mean(axis=0)\n",
    "\n",
    "    ax.grid(True)\n",
    "    ax.plot(stat, label=sim)\n",
    "\n",
    "ax.legend()\n",
    "plt.savefig(f\"{fig_dir}/mean_mse_per_z.jpeg\")\n",
    "#plt.show()\n",
    "plt.clf()"
   ]
  },
  {
   "cell_type": "markdown",
   "metadata": {},
   "source": [
    "#### Corrcoef"
   ]
  },
  {
   "cell_type": "code",
   "execution_count": 33,
   "metadata": {},
   "outputs": [
    {
     "data": {
      "text/plain": [
       "<Figure size 640x480 with 0 Axes>"
      ]
     },
     "metadata": {},
     "output_type": "display_data"
    }
   ],
   "source": [
    "%matplotlib inline\n",
    "\n",
    "fig, ax = plt.subplots()\n",
    "ax.set_title(\"Cross-Correlation: Original v. Decoded \")\n",
    "ax.set_ylabel(\"Mean diag(cc matrix)\")\n",
    "ax.set_xlabel(\"z slice index\")\n",
    "\n",
    "for sim in sims:\n",
    "    stat = np.nanmean(npz[sim]['corrcoef'], axis=0)\n",
    "\n",
    "    ax.grid(True)\n",
    "    ax.plot(stat, label=sim)\n",
    "\n",
    "ax.legend()\n",
    "plt.savefig(f\"{fig_dir}/mean_cc_per_z.jpeg\")\n",
    "#plt.show()\n",
    "plt.clf()"
   ]
  }
 ],
 "metadata": {
  "kernelspec": {
   "display_name": "myenv",
   "language": "python",
   "name": "python3"
  },
  "language_info": {
   "codemirror_mode": {
    "name": "ipython",
    "version": 3
   },
   "file_extension": ".py",
   "mimetype": "text/x-python",
   "name": "python",
   "nbconvert_exporter": "python",
   "pygments_lexer": "ipython3",
   "version": "3.9.16"
  }
 },
 "nbformat": 4,
 "nbformat_minor": 2
}
