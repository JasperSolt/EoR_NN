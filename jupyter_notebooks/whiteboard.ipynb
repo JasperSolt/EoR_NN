{
 "cells": [
  {
   "cell_type": "markdown",
   "metadata": {},
   "source": [
    "Reminding myself how class inheritance works in python"
   ]
  },
  {
   "cell_type": "code",
   "execution_count": 10,
   "metadata": {},
   "outputs": [
    {
     "name": "stdout",
     "output_type": "stream",
     "text": [
      "hello\n",
      "hello world\n"
     ]
    }
   ],
   "source": [
    "class foo():\n",
    "    def __init__(self, a1):\n",
    "        self.a1 = a1\n",
    "\n",
    "    def foofunc(self):\n",
    "        print(self.a1)\n",
    "    \n",
    "    def foofunc2(self):\n",
    "        print(\"here!\")\n",
    "\n",
    "class bar(foo):\n",
    "    def __init__(self, a1, a2):\n",
    "        super().__init__(a1)\n",
    "        self.a2 = a2\n",
    "    \n",
    "    def barfunc(self):\n",
    "        print(self.a1, self.a2)\n",
    "\n",
    "bar_inst = bar(\"hello\", \"world\")\n",
    "bar_inst.foofunc()\n",
    "bar_inst.barfunc()\n"
   ]
  },
  {
   "cell_type": "code",
   "execution_count": 6,
   "metadata": {},
   "outputs": [
    {
     "name": "stdout",
     "output_type": "stream",
     "text": [
      "see ya later\n",
      "see ya later world\n"
     ]
    }
   ],
   "source": [
    "\n",
    "class bar(foo):\n",
    "    def __init__(self, a1, a2):\n",
    "        super().__init__(a1)\n",
    "        self.a2 = a2\n",
    "        self.a1 = \"see ya later\"\n",
    "    \n",
    "    def barfunc(self):\n",
    "        print(self.a1, self.a2)\n",
    "\n",
    "bar_inst = bar(\"hello\", \"world\")\n",
    "bar_inst.foofunc()\n",
    "bar_inst.barfunc()"
   ]
  },
  {
   "cell_type": "code",
   "execution_count": null,
   "metadata": {},
   "outputs": [
    {
     "name": "stdout",
     "output_type": "stream",
     "text": [
      "here!\n",
      "hello\n",
      "hello world\n"
     ]
    }
   ],
   "source": [
    "class bar(foo):\n",
    "    def __init__(self, a1, a2):\n",
    "        self.foofunc2()\n",
    "        #self.foofunc() #Fails because self.a1 doesn't exist\n",
    "        super().__init__(a1)\n",
    "\n",
    "        self.a2 = a2\n",
    "    \n",
    "    def barfunc(self):\n",
    "        print(self.a1, self.a2)\n",
    "\n",
    "bar_inst = bar(\"hello\", \"world\")\n",
    "bar_inst.foofunc()\n",
    "bar_inst.barfunc()"
   ]
  },
  {
   "cell_type": "markdown",
   "metadata": {},
   "source": [
    "Saving a file for later"
   ]
  },
  {
   "cell_type": "code",
   "execution_count": 1,
   "metadata": {},
   "outputs": [],
   "source": [
    "import h5py\n",
    "import glob\n",
    "import numpy as np\n",
    "\n",
    "dir = \"/users/jsolt/data/jsolt/lightcones/21cmFAST_lightcones_centralpix_v05\"\n",
    "fname = glob.glob(f\"{dir}/*.h5\")[0]\n",
    "\n",
    "with h5py.File(fname) as lc_file:\n",
    "    node_redshifts = lc_file['node_redshifts'][:]\n",
    "\n",
    "np.save(\"node_redshifts.npy\", node_redshifts)"
   ]
  },
  {
   "cell_type": "code",
   "execution_count": 3,
   "metadata": {},
   "outputs": [
    {
     "name": "stdout",
     "output_type": "stream",
     "text": [
      "[ 6.          6.13999987  6.28279973  6.42845558  6.57702455  6.7285649\n",
      "  6.88313605  7.04079862  7.20161444  7.36564657  7.53295934  7.70361837\n",
      "  7.87769057  8.05524421  8.23634892  8.42107573  8.60949706  8.80168682\n",
      "  8.99772037  9.19767458  9.40162788  9.60966024  9.82185324 10.0382901\n",
      " 10.25905569 10.48423659 10.71392111 10.9481993  11.18716306 11.43090609\n",
      " 11.67952398 11.93311421 12.19177625 12.45561152 12.7247235  12.99921771\n",
      " 13.27920179 13.56478556 13.85608099 14.15320233 14.45626608 14.76539111\n",
      " 15.08069863 15.4023123  15.73035823 16.06496508]\n"
     ]
    }
   ],
   "source": [
    "arr = np.flip(np.load(\"node_redshifts.npy\"))\n",
    "print(arr)"
   ]
  },
  {
   "cell_type": "markdown",
   "metadata": {},
   "source": [
    "Get a list of parameter combos with cartesian product"
   ]
  },
  {
   "cell_type": "code",
   "execution_count": 4,
   "metadata": {},
   "outputs": [
    {
     "name": "stdout",
     "output_type": "stream",
     "text": [
      "[[ 0.1  0.1]\n",
      " [ 0.1  1. ]\n",
      " [ 0.1 10. ]\n",
      " [ 1.   0.1]\n",
      " [ 1.   1. ]\n",
      " [ 1.  10. ]\n",
      " [10.   0.1]\n",
      " [10.   1. ]\n",
      " [10.  10. ]]\n"
     ]
    }
   ],
   "source": [
    "import numpy as np\n",
    "\n",
    "#stole from internet\n",
    "def cartesian_product(*arrays):\n",
    "    la = len(arrays)\n",
    "    dtype = np.result_type(*arrays)\n",
    "    arr = np.empty([len(a) for a in arrays] + [la], dtype=dtype)\n",
    "    for i, a in enumerate(np.ix_(*arrays)):\n",
    "        arr[...,i] = a\n",
    "    return arr.reshape(-1, la)\n",
    "\n",
    "param_dict = {\n",
    "    'init_mag':np.array([0.1, 1.0, 10.0]),\n",
    "    'alpha':np.array([0.1, 1.0, 10.0])\n",
    "} \n",
    "\n",
    "combos = cartesian_product(*[arr for arr in param_dict.values()])\n",
    "\n",
    "print(combos)\n",
    "n = len(combos)"
   ]
  },
  {
   "cell_type": "code",
   "execution_count": null,
   "metadata": {},
   "outputs": [],
   "source": []
  }
 ],
 "metadata": {
  "kernelspec": {
   "display_name": "myenv",
   "language": "python",
   "name": "python3"
  },
  "language_info": {
   "codemirror_mode": {
    "name": "ipython",
    "version": 3
   },
   "file_extension": ".py",
   "mimetype": "text/x-python",
   "name": "python",
   "nbconvert_exporter": "python",
   "pygments_lexer": "ipython3",
   "version": "3.9.16"
  }
 },
 "nbformat": 4,
 "nbformat_minor": 2
}
